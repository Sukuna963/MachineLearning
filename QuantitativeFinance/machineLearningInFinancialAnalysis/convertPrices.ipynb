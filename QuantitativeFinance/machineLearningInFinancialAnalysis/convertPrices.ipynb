{
 "cells": [
  {
   "cell_type": "markdown",
   "id": "bad22ba0",
   "metadata": {},
   "source": [
    "# Converting prices to returns"
   ]
  },
  {
   "cell_type": "markdown",
   "id": "44b0a8ef",
   "metadata": {},
   "source": [
    "## How to do is..."
   ]
  },
  {
   "cell_type": "markdown",
   "id": "d4dd48cb",
   "metadata": {},
   "source": [
    "1.import libraries"
   ]
  },
  {
   "cell_type": "code",
   "execution_count": 1,
   "id": "51b6a23f",
   "metadata": {},
   "outputs": [],
   "source": [
    "import pandas as pd\n",
    "import numpy as np\n",
    "import yfinance as yf"
   ]
  },
  {
   "cell_type": "markdown",
   "id": "b6133793",
   "metadata": {},
   "source": [
    "2.Download the data and keep the adjusted close prices only:"
   ]
  },
  {
   "cell_type": "code",
   "execution_count": 2,
   "id": "68e8dacc",
   "metadata": {},
   "outputs": [],
   "source": [
    "df = yf.download('BAC', start='2013-01-01', end='2023-12-31', progress=False)\n",
    "\n",
    "df = df.loc[:,['Adj Close']]\n",
    "df.rename(columns={'Adj Close':'adj_close'}, inplace=True)"
   ]
  },
  {
   "cell_type": "markdown",
   "id": "213cfbf8",
   "metadata": {},
   "source": [
    "3.Convert adjusted close prices to simple and log returns"
   ]
  },
  {
   "cell_type": "code",
   "execution_count": 3,
   "id": "794956eb",
   "metadata": {},
   "outputs": [],
   "source": [
    "df['simple_rtn'] = df.adj_close.pct_change()\n",
    "df['log_rtn'] = np.log(df.adj_close/df.adj_close.shift(1))"
   ]
  },
  {
   "cell_type": "markdown",
   "id": "986dc13b",
   "metadata": {},
   "source": [
    "4.Inspect the output"
   ]
  },
  {
   "cell_type": "code",
   "execution_count": 4,
   "id": "e28dfd49",
   "metadata": {},
   "outputs": [
    {
     "data": {
      "text/html": [
       "<div>\n",
       "<style scoped>\n",
       "    .dataframe tbody tr th:only-of-type {\n",
       "        vertical-align: middle;\n",
       "    }\n",
       "\n",
       "    .dataframe tbody tr th {\n",
       "        vertical-align: top;\n",
       "    }\n",
       "\n",
       "    .dataframe thead th {\n",
       "        text-align: right;\n",
       "    }\n",
       "</style>\n",
       "<table border=\"1\" class=\"dataframe\">\n",
       "  <thead>\n",
       "    <tr style=\"text-align: right;\">\n",
       "      <th></th>\n",
       "      <th>adj_close</th>\n",
       "      <th>simple_rtn</th>\n",
       "      <th>log_rtn</th>\n",
       "    </tr>\n",
       "    <tr>\n",
       "      <th>Date</th>\n",
       "      <th></th>\n",
       "      <th></th>\n",
       "      <th></th>\n",
       "    </tr>\n",
       "  </thead>\n",
       "  <tbody>\n",
       "    <tr>\n",
       "      <th>2013-01-02</th>\n",
       "      <td>9.913476</td>\n",
       "      <td>NaN</td>\n",
       "      <td>NaN</td>\n",
       "    </tr>\n",
       "    <tr>\n",
       "      <th>2013-01-03</th>\n",
       "      <td>9.855795</td>\n",
       "      <td>-0.005818</td>\n",
       "      <td>-0.005835</td>\n",
       "    </tr>\n",
       "    <tr>\n",
       "      <th>2013-01-04</th>\n",
       "      <td>9.979399</td>\n",
       "      <td>0.012541</td>\n",
       "      <td>0.012463</td>\n",
       "    </tr>\n",
       "    <tr>\n",
       "      <th>2013-01-07</th>\n",
       "      <td>9.962918</td>\n",
       "      <td>-0.001651</td>\n",
       "      <td>-0.001653</td>\n",
       "    </tr>\n",
       "    <tr>\n",
       "      <th>2013-01-08</th>\n",
       "      <td>9.872272</td>\n",
       "      <td>-0.009098</td>\n",
       "      <td>-0.009140</td>\n",
       "    </tr>\n",
       "  </tbody>\n",
       "</table>\n",
       "</div>"
      ],
      "text/plain": [
       "            adj_close  simple_rtn   log_rtn\n",
       "Date                                       \n",
       "2013-01-02   9.913476         NaN       NaN\n",
       "2013-01-03   9.855795   -0.005818 -0.005835\n",
       "2013-01-04   9.979399    0.012541  0.012463\n",
       "2013-01-07   9.962918   -0.001651 -0.001653\n",
       "2013-01-08   9.872272   -0.009098 -0.009140"
      ]
     },
     "execution_count": 4,
     "metadata": {},
     "output_type": "execute_result"
    }
   ],
   "source": [
    "df.head()"
   ]
  }
 ],
 "metadata": {
  "kernelspec": {
   "display_name": "Python 3 (ipykernel)",
   "language": "python",
   "name": "python3"
  },
  "language_info": {
   "codemirror_mode": {
    "name": "ipython",
    "version": 3
   },
   "file_extension": ".py",
   "mimetype": "text/x-python",
   "name": "python",
   "nbconvert_exporter": "python",
   "pygments_lexer": "ipython3",
   "version": "3.11.5"
  }
 },
 "nbformat": 4,
 "nbformat_minor": 5
}
