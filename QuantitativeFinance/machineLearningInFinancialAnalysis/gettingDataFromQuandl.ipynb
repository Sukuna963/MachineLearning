{
 "cells": [
  {
   "cell_type": "markdown",
   "id": "98814655",
   "metadata": {},
   "source": [
    "# Financial Data and Processing"
   ]
  },
  {
   "cell_type": "markdown",
   "id": "7b502975",
   "metadata": {},
   "source": [
    "## Getting data from Quandl"
   ]
  },
  {
   "cell_type": "code",
   "execution_count": 1,
   "id": "7c6b6379",
   "metadata": {},
   "outputs": [],
   "source": [
    "import pandas as pd\n",
    "import quandl"
   ]
  },
  {
   "cell_type": "markdown",
   "id": "704d7fd8",
   "metadata": {},
   "source": [
    "1.Authenticate using the personal API key:"
   ]
  },
  {
   "cell_type": "code",
   "execution_count": 2,
   "id": "94a2673e",
   "metadata": {},
   "outputs": [],
   "source": [
    "QUANDL_KEY = ''\n",
    "quandl.ApiConfig.api_key = QUANDL_KEY"
   ]
  },
  {
   "cell_type": "markdown",
   "id": "fcfd164d",
   "metadata": {},
   "source": [
    "2.Download the data"
   ]
  },
  {
   "cell_type": "markdown",
   "id": "ac4372fd",
   "metadata": {},
   "source": [
    "* Specify multiple datasets = ['WIKI/AAPL','WIKI/MSFT']\n",
    "* collapse = used to define the frequency(daily, weekly, monthly, quarterly, annualy)"
   ]
  },
  {
   "cell_type": "code",
   "execution_count": 3,
   "id": "b56b298f",
   "metadata": {},
   "outputs": [],
   "source": [
    "df_quandl = quandl.get(dataset='WIKI/BAC', start_date='2013-01-01', end_date='2023-12-31')"
   ]
  },
  {
   "cell_type": "markdown",
   "id": "78cb88a3",
   "metadata": {},
   "source": [
    "3.Inspect the data"
   ]
  },
  {
   "cell_type": "code",
   "execution_count": 4,
   "id": "8724b812",
   "metadata": {},
   "outputs": [
    {
     "name": "stdout",
     "output_type": "stream",
     "text": [
      "Download 1317 rowns of date\n"
     ]
    },
    {
     "data": {
      "text/html": [
       "<div>\n",
       "<style scoped>\n",
       "    .dataframe tbody tr th:only-of-type {\n",
       "        vertical-align: middle;\n",
       "    }\n",
       "\n",
       "    .dataframe tbody tr th {\n",
       "        vertical-align: top;\n",
       "    }\n",
       "\n",
       "    .dataframe thead th {\n",
       "        text-align: right;\n",
       "    }\n",
       "</style>\n",
       "<table border=\"1\" class=\"dataframe\">\n",
       "  <thead>\n",
       "    <tr style=\"text-align: right;\">\n",
       "      <th></th>\n",
       "      <th>Open</th>\n",
       "      <th>High</th>\n",
       "      <th>Low</th>\n",
       "      <th>Close</th>\n",
       "      <th>Volume</th>\n",
       "      <th>Ex-Dividend</th>\n",
       "      <th>Split Ratio</th>\n",
       "      <th>Adj. Open</th>\n",
       "      <th>Adj. High</th>\n",
       "      <th>Adj. Low</th>\n",
       "      <th>Adj. Close</th>\n",
       "      <th>Adj. Volume</th>\n",
       "    </tr>\n",
       "    <tr>\n",
       "      <th>Date</th>\n",
       "      <th></th>\n",
       "      <th></th>\n",
       "      <th></th>\n",
       "      <th></th>\n",
       "      <th></th>\n",
       "      <th></th>\n",
       "      <th></th>\n",
       "      <th></th>\n",
       "      <th></th>\n",
       "      <th></th>\n",
       "      <th></th>\n",
       "      <th></th>\n",
       "    </tr>\n",
       "  </thead>\n",
       "  <tbody>\n",
       "    <tr>\n",
       "      <th>2013-01-02</th>\n",
       "      <td>12.05</td>\n",
       "      <td>12.15</td>\n",
       "      <td>11.90</td>\n",
       "      <td>12.03</td>\n",
       "      <td>236021400.0</td>\n",
       "      <td>0.0</td>\n",
       "      <td>1.0</td>\n",
       "      <td>11.475630</td>\n",
       "      <td>11.570863</td>\n",
       "      <td>11.332779</td>\n",
       "      <td>11.456583</td>\n",
       "      <td>236021400.0</td>\n",
       "    </tr>\n",
       "    <tr>\n",
       "      <th>2013-01-03</th>\n",
       "      <td>12.01</td>\n",
       "      <td>12.05</td>\n",
       "      <td>11.88</td>\n",
       "      <td>11.96</td>\n",
       "      <td>157149700.0</td>\n",
       "      <td>0.0</td>\n",
       "      <td>1.0</td>\n",
       "      <td>11.437536</td>\n",
       "      <td>11.475630</td>\n",
       "      <td>11.313733</td>\n",
       "      <td>11.389920</td>\n",
       "      <td>157149700.0</td>\n",
       "    </tr>\n",
       "    <tr>\n",
       "      <th>2013-01-04</th>\n",
       "      <td>11.97</td>\n",
       "      <td>12.11</td>\n",
       "      <td>11.93</td>\n",
       "      <td>12.11</td>\n",
       "      <td>132601900.0</td>\n",
       "      <td>0.0</td>\n",
       "      <td>1.0</td>\n",
       "      <td>11.399443</td>\n",
       "      <td>11.532770</td>\n",
       "      <td>11.361349</td>\n",
       "      <td>11.532770</td>\n",
       "      <td>132601900.0</td>\n",
       "    </tr>\n",
       "    <tr>\n",
       "      <th>2013-01-07</th>\n",
       "      <td>12.15</td>\n",
       "      <td>12.20</td>\n",
       "      <td>12.00</td>\n",
       "      <td>12.09</td>\n",
       "      <td>201403500.0</td>\n",
       "      <td>0.0</td>\n",
       "      <td>1.0</td>\n",
       "      <td>11.570863</td>\n",
       "      <td>11.618480</td>\n",
       "      <td>11.428013</td>\n",
       "      <td>11.513723</td>\n",
       "      <td>201403500.0</td>\n",
       "    </tr>\n",
       "    <tr>\n",
       "      <th>2013-01-08</th>\n",
       "      <td>12.09</td>\n",
       "      <td>12.10</td>\n",
       "      <td>11.89</td>\n",
       "      <td>11.98</td>\n",
       "      <td>168461100.0</td>\n",
       "      <td>0.0</td>\n",
       "      <td>1.0</td>\n",
       "      <td>11.513723</td>\n",
       "      <td>11.523246</td>\n",
       "      <td>11.323256</td>\n",
       "      <td>11.408966</td>\n",
       "      <td>168461100.0</td>\n",
       "    </tr>\n",
       "  </tbody>\n",
       "</table>\n",
       "</div>"
      ],
      "text/plain": [
       "             Open   High    Low  Close       Volume  Ex-Dividend  Split Ratio  \\\n",
       "Date                                                                            \n",
       "2013-01-02  12.05  12.15  11.90  12.03  236021400.0          0.0          1.0   \n",
       "2013-01-03  12.01  12.05  11.88  11.96  157149700.0          0.0          1.0   \n",
       "2013-01-04  11.97  12.11  11.93  12.11  132601900.0          0.0          1.0   \n",
       "2013-01-07  12.15  12.20  12.00  12.09  201403500.0          0.0          1.0   \n",
       "2013-01-08  12.09  12.10  11.89  11.98  168461100.0          0.0          1.0   \n",
       "\n",
       "            Adj. Open  Adj. High   Adj. Low  Adj. Close  Adj. Volume  \n",
       "Date                                                                  \n",
       "2013-01-02  11.475630  11.570863  11.332779   11.456583  236021400.0  \n",
       "2013-01-03  11.437536  11.475630  11.313733   11.389920  157149700.0  \n",
       "2013-01-04  11.399443  11.532770  11.361349   11.532770  132601900.0  \n",
       "2013-01-07  11.570863  11.618480  11.428013   11.513723  201403500.0  \n",
       "2013-01-08  11.513723  11.523246  11.323256   11.408966  168461100.0  "
      ]
     },
     "execution_count": 4,
     "metadata": {},
     "output_type": "execute_result"
    }
   ],
   "source": [
    "print(f'Download {df_quandl.shape[0]} rowns of date')\n",
    "\n",
    "df_quandl.head()"
   ]
  }
 ],
 "metadata": {
  "kernelspec": {
   "display_name": "Python 3 (ipykernel)",
   "language": "python",
   "name": "python3"
  },
  "language_info": {
   "codemirror_mode": {
    "name": "ipython",
    "version": 3
   },
   "file_extension": ".py",
   "mimetype": "text/x-python",
   "name": "python",
   "nbconvert_exporter": "python",
   "pygments_lexer": "ipython3",
   "version": "3.11.5"
  }
 },
 "nbformat": 4,
 "nbformat_minor": 5
}
