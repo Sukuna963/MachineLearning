{
 "cells": [
  {
   "cell_type": "markdown",
   "id": "5f48adc1",
   "metadata": {},
   "source": [
    "# Financial Data and Processing"
   ]
  },
  {
   "cell_type": "markdown",
   "id": "dc68ff10",
   "metadata": {},
   "source": [
    "## Getting data from Yahoo Finance"
   ]
  },
  {
   "cell_type": "code",
   "execution_count": 2,
   "id": "10fdb876",
   "metadata": {},
   "outputs": [],
   "source": [
    "import pandas as pd\n",
    "import yfinance as yf"
   ]
  },
  {
   "cell_type": "markdown",
   "id": "31260755",
   "metadata": {},
   "source": [
    "2.Download the data"
   ]
  },
  {
   "cell_type": "code",
   "execution_count": 3,
   "id": "ce5e0076",
   "metadata": {},
   "outputs": [],
   "source": [
    "df_yahoo = yf.download('AAPL', start='2013-01-01', end='2023-12-31', progress=False)"
   ]
  },
  {
   "cell_type": "markdown",
   "id": "1a446d67",
   "metadata": {},
   "source": [
    "3.Inspect the data"
   ]
  },
  {
   "cell_type": "code",
   "execution_count": 4,
   "id": "414cf4c2",
   "metadata": {},
   "outputs": [
    {
     "name": "stdout",
     "output_type": "stream",
     "text": [
      "Download 2768) rows of data\n"
     ]
    },
    {
     "data": {
      "text/html": [
       "<div>\n",
       "<style scoped>\n",
       "    .dataframe tbody tr th:only-of-type {\n",
       "        vertical-align: middle;\n",
       "    }\n",
       "\n",
       "    .dataframe tbody tr th {\n",
       "        vertical-align: top;\n",
       "    }\n",
       "\n",
       "    .dataframe thead th {\n",
       "        text-align: right;\n",
       "    }\n",
       "</style>\n",
       "<table border=\"1\" class=\"dataframe\">\n",
       "  <thead>\n",
       "    <tr style=\"text-align: right;\">\n",
       "      <th></th>\n",
       "      <th>Open</th>\n",
       "      <th>High</th>\n",
       "      <th>Low</th>\n",
       "      <th>Close</th>\n",
       "      <th>Adj Close</th>\n",
       "      <th>Volume</th>\n",
       "    </tr>\n",
       "    <tr>\n",
       "      <th>Date</th>\n",
       "      <th></th>\n",
       "      <th></th>\n",
       "      <th></th>\n",
       "      <th></th>\n",
       "      <th></th>\n",
       "      <th></th>\n",
       "    </tr>\n",
       "  </thead>\n",
       "  <tbody>\n",
       "    <tr>\n",
       "      <th>2013-01-02</th>\n",
       "      <td>19.779285</td>\n",
       "      <td>19.821428</td>\n",
       "      <td>19.343929</td>\n",
       "      <td>19.608213</td>\n",
       "      <td>16.769098</td>\n",
       "      <td>560518000</td>\n",
       "    </tr>\n",
       "    <tr>\n",
       "      <th>2013-01-03</th>\n",
       "      <td>19.567142</td>\n",
       "      <td>19.631071</td>\n",
       "      <td>19.321428</td>\n",
       "      <td>19.360714</td>\n",
       "      <td>16.557428</td>\n",
       "      <td>352965200</td>\n",
       "    </tr>\n",
       "    <tr>\n",
       "      <th>2013-01-04</th>\n",
       "      <td>19.177500</td>\n",
       "      <td>19.236786</td>\n",
       "      <td>18.779642</td>\n",
       "      <td>18.821428</td>\n",
       "      <td>16.096233</td>\n",
       "      <td>594333600</td>\n",
       "    </tr>\n",
       "    <tr>\n",
       "      <th>2013-01-07</th>\n",
       "      <td>18.642857</td>\n",
       "      <td>18.903570</td>\n",
       "      <td>18.400000</td>\n",
       "      <td>18.710714</td>\n",
       "      <td>16.001547</td>\n",
       "      <td>484156400</td>\n",
       "    </tr>\n",
       "    <tr>\n",
       "      <th>2013-01-08</th>\n",
       "      <td>18.900356</td>\n",
       "      <td>18.996071</td>\n",
       "      <td>18.616072</td>\n",
       "      <td>18.761070</td>\n",
       "      <td>16.044615</td>\n",
       "      <td>458707200</td>\n",
       "    </tr>\n",
       "  </tbody>\n",
       "</table>\n",
       "</div>"
      ],
      "text/plain": [
       "                 Open       High        Low      Close  Adj Close     Volume\n",
       "Date                                                                        \n",
       "2013-01-02  19.779285  19.821428  19.343929  19.608213  16.769098  560518000\n",
       "2013-01-03  19.567142  19.631071  19.321428  19.360714  16.557428  352965200\n",
       "2013-01-04  19.177500  19.236786  18.779642  18.821428  16.096233  594333600\n",
       "2013-01-07  18.642857  18.903570  18.400000  18.710714  16.001547  484156400\n",
       "2013-01-08  18.900356  18.996071  18.616072  18.761070  16.044615  458707200"
      ]
     },
     "execution_count": 4,
     "metadata": {},
     "output_type": "execute_result"
    }
   ],
   "source": [
    "print(f'Download {df_yahoo.shape[0]}) rows of data')\n",
    "\n",
    "df_yahoo.head()"
   ]
  }
 ],
 "metadata": {
  "kernelspec": {
   "display_name": "Python 3 (ipykernel)",
   "language": "python",
   "name": "python3"
  },
  "language_info": {
   "codemirror_mode": {
    "name": "ipython",
    "version": 3
   },
   "file_extension": ".py",
   "mimetype": "text/x-python",
   "name": "python",
   "nbconvert_exporter": "python",
   "pygments_lexer": "ipython3",
   "version": "3.11.5"
  }
 },
 "nbformat": 4,
 "nbformat_minor": 5
}
